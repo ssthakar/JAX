{
 "cells": [
  {
   "cell_type": "code",
   "execution_count": 35,
   "id": "4ee6e925-b0bc-48ba-8de0-461a15d590fd",
   "metadata": {},
   "outputs": [],
   "source": [
    "import jax\n",
    "import jax.numpy as jnp\n",
    "import optax\n",
    "import functools\n",
    "import matplotlib.pyplot as plt"
   ]
  },
  {
   "cell_type": "code",
   "execution_count": 36,
   "id": "513f492e-cbab-4c80-9822-3a263089c32c",
   "metadata": {},
   "outputs": [],
   "source": [
    "# define constraints that won't change\n",
    "x0 = 0.2\n",
    "# can't use float in optax.l2_loss, so convert to array\n",
    "F0 = jnp.array(10.0)\n",
    "\n",
    "# define the elasticity as a function of x and params theta (A,B,C)\n",
    "def k(theta,x):\n",
    "    return theta[0]*x**2 + theta[1]*x + theta[2]\n",
    "\n",
    "# define partial derivative of k wrt x, 1 to tell jax to diff wrt to second arg (x)\n",
    "dk_dx = jax.grad(k,argnums=(1))"
   ]
  },
  {
   "cell_type": "code",
   "execution_count": 37,
   "id": "a9dbd2c2-e853-4296-94a5-5d505b3de6cf",
   "metadata": {},
   "outputs": [],
   "source": [
    "# define force\n",
    "def f(theta,x):\n",
    "    return k(theta,x)*x + dk_dx(theta,x)*x\n",
    "\n",
    "# define force at x0, by freezing x as x0\n",
    "f_at_x0 = functools.partial(f,x=0.20)"
   ]
  },
  {
   "cell_type": "code",
   "execution_count": 38,
   "id": "a3dddd32-a923-4f30-ad89-6b09cb4c08f1",
   "metadata": {},
   "outputs": [],
   "source": [
    "# define objetive function for optimizer, jit because called in loop\n",
    "# Question, Do I need to jit compile the functions called inside loss_function?\n",
    "@jax.jit\n",
    "def loss_function(theta):\n",
    "    f_pred = f_at_x0(theta)\n",
    "    return optax.l2_loss(F0,f_pred)"
   ]
  },
  {
   "cell_type": "code",
   "execution_count": 39,
   "id": "c507dccd-b49d-4e5e-8db8-cb2739034163",
   "metadata": {},
   "outputs": [
    {
     "name": "stdout",
     "output_type": "stream",
     "text": [
      "[16.022703 20.022709 18.922705]\n"
     ]
    }
   ],
   "source": [
    "# define intial step size for grad descent\n",
    "lr = 1e-1\n",
    "optimizer = optax.adam(lr)\n",
    "# intialize, (use prng instead of self chosen?)\n",
    "theta = jnp.array([1.2,4.1,3.0])\n",
    "opt_state = optimizer.init(theta)\n",
    "N_iter = 1000\n",
    "# track loss every n_log_loss number of iteration\n",
    "n_log_loss = 25\n",
    "loss_hist = []\n",
    "# iterate\n",
    "for i in range(N_iter):\n",
    "    grads = jax.grad(loss_function)(theta)\n",
    "    updates,opt_state = optimizer.update(grads,opt_state)\n",
    "    theta = optax.apply_updates(theta,updates)\n",
    "    if i%25==0:\n",
    "        loss_hist.append(loss_function(theta))\n",
    "# params\n",
    "print(theta)"
   ]
  },
  {
   "cell_type": "code",
   "execution_count": 40,
   "id": "f5e5ada6-20b1-4b34-b4b7-591f27131fed",
   "metadata": {},
   "outputs": [
    {
     "data": {
      "text/plain": [
       "Array(9.999989, dtype=float32)"
      ]
     },
     "execution_count": 40,
     "metadata": {},
     "output_type": "execute_result"
    }
   ],
   "source": [
    "# plug in params to get force\n",
    "result = f(theta,x0)\n",
    "result"
   ]
  },
  {
   "cell_type": "code",
   "execution_count": 28,
   "id": "0ce6caef-c3b6-4736-b6f4-51465d570345",
   "metadata": {},
   "outputs": [
    {
     "data": {
      "text/plain": [
       "Array(6.548362e-11, dtype=float32)"
      ]
     },
     "execution_count": 28,
     "metadata": {},
     "output_type": "execute_result"
    },
    {
     "data": {
      "image/png": "[encoded data removed]",
      "text/plain": [
       "<Figure size 640x480 with 1 Axes>"
      ]
     },
     "metadata": {},
     "output_type": "display_data"
    }
   ],
   "source": [
    "# plot loss history\n",
    "plt.plot(loss_hist)\n",
    "loss_hist[-1]"
   ]
  },
  {
   "cell_type": "code",
   "execution_count": 17,
   "id": "7079b7e1-a589-4733-ac81-81301803ee27",
   "metadata": {},
   "outputs": [
    {
     "data": {
      "text/plain": [
       "10.008000000000001"
      ]
     },
     "execution_count": 17,
     "metadata": {},
     "output_type": "execute_result"
    }
   ],
   "source": [
    "(16*0.2**2 + 20*0.2 + 19)*0.2 + (32*0.2+20)*0.2"
   ]
  },
  {
   "cell_type": "code",
   "execution_count": null,
   "id": "e9b71259-2b5c-428b-91fb-7ac5958564bf",
   "metadata": {},
   "outputs": [],
   "source": []
  }
 ],
 "metadata": {
  "kernelspec": {
   "display_name": "Python 3 (ipykernel)",
   "language": "python",
   "name": "python3"
  },
  "language_info": {
   "codemirror_mode": {
    "name": "ipython",
    "version": 3
   },
   "file_extension": ".py",
   "mimetype": "text/x-python",
   "name": "python",
   "nbconvert_exporter": "python",
   "pygments_lexer": "ipython3",
   "version": "3.12.6"
  }
 },
 "nbformat": 4,
 "nbformat_minor": 5
}
