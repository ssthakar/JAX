{
 "cells": [
  {
   "cell_type": "markdown",
   "id": "220b8a83-69c4-47f4-b6e7-43a83ffae228",
   "metadata": {},
   "source": [
    "# A simple linear model fitting using optax to get our feet wet\n",
    "* Consider the following linear model:\n",
    "    * $y = \\beta _0 + \\beta _1 x_1 + \\beta _2 x_2 ... \\beta _n x_n$\n",
    "* Here $\\boldsymbol{\\beta} = \\{\\beta _1, \\beta _2 ... \\beta _3\\}$ are the parameters, abbreviated as \"params\" here onwards and $\\boldsymbol{x} = \\{x_1,x_2 ... x_n\\}$ are the input features, with $y$ being the output feature."
   ]
  },
  {
   "cell_type": "code",
   "execution_count": 26,
   "id": "ecb349ac-d00c-4a8b-832e-c5e0eab757a5",
   "metadata": {},
   "outputs": [],
   "source": [
    "import jax\n",
    "import jax.numpy as jnp\n",
    "import optax\n",
    "import functools\n",
    "import matplotlib.pyplot as plt"
   ]
  },
  {
   "cell_type": "code",
   "execution_count": 25,
   "id": "1ad8ea5b-c1ba-41c4-8da1-be7b83a862c4",
   "metadata": {},
   "outputs": [
    {
     "name": "stdout",
     "output_type": "stream",
     "text": [
      "cuda:0\n"
     ]
    }
   ],
   "source": [
    "# check if gpu is detected\n",
    "test =jnp.arange(5)\n",
    "print(test.device)"
   ]
  },
  {
   "cell_type": "markdown",
   "id": "70b655bf-ece0-4445-a32c-bc91fcc5abc2",
   "metadata": {},
   "source": [
    "## Example function using functools partial and vmap\n",
    "* functools presets some of the args to the vmap function, here, the \"in_axes()\" parameter is passed through the partial decorator\n",
    "* Note that jax.vmap() has other function arguments as well, but they are not taken into consideration here, only the in_axes() param is \"frozen\"\n",
    "* The partial decorator is then applied to the function network which takes in params and x"
   ]
  },
  {
   "cell_type": "code",
   "execution_count": 17,
   "id": "3ebe4749-004d-44e8-a8ae-093277304ca7",
   "metadata": {},
   "outputs": [],
   "source": [
    "@functools.partial(jax.vmap,in_axes=(None,0))\n",
    "def network(params,x):\n",
    "    return jnp.dot(params,x)\n",
    "\n",
    "def compute_loss(params,x,y):\n",
    "    y_pred = network(params,x)\n",
    "    loss = jnp.mean(optax.l2_loss(y_pred,y))\n",
    "    return loss"
   ]
  },
  {
   "cell_type": "markdown",
   "id": "1f779c7b-2e66-4b2b-b262-0c8acc706077",
   "metadata": {},
   "source": [
    "# Data\n",
    "* We generate data using a known linear model with the target params =0.5"
   ]
  },
  {
   "cell_type": "code",
   "execution_count": 38,
   "id": "1caac4c1-a95a-47c0-b344-bdc03a89d65b",
   "metadata": {},
   "outputs": [
    {
     "data": {
      "text/plain": [
       "(16, 2)"
      ]
     },
     "execution_count": 38,
     "metadata": {},
     "output_type": "execute_result"
    }
   ],
   "source": [
    "key = jax.random.PRNGKey(42)\n",
    "# optax tutorial uses this as the target params which is a bit confusing\n",
    "# target_params=0.5\n",
    "# instead of just defining a scalar we define a vector\n",
    "target_params = jnp.array([0.5,0.5])\n",
    "# Generate the data\n",
    "xs = jax.random.normal(key,(16,2))\n",
    "test = xs*target_params\n",
    "ys = jnp.sum(xs*target_params,axis=-1)\n",
    "test.shape"
   ]
  },
  {
   "cell_type": "markdown",
   "id": "55b25240-c375-459d-b8dd-a41bec42f2d4",
   "metadata": {},
   "source": [
    "# Define optimizer\n",
    "* define initial learning rate for the ADAM optimizer for example\n",
    "* intialize params\n",
    "* construct optimizer object"
   ]
  },
  {
   "cell_type": "code",
   "execution_count": 33,
   "id": "16bd9a73-4b8c-4706-9415-e18f5e77c70f",
   "metadata": {},
   "outputs": [],
   "source": [
    "lr=1e-1\n",
    "optimizer = optax.adam(lr)\n",
    "\n",
    "#intialize the params using randoms values, here we got with zeroes\n",
    "params = jnp.array([0.0,0.0])\n",
    "opt_state = optimizer.init(params)"
   ]
  },
  {
   "cell_type": "code",
   "execution_count": 34,
   "id": "5499d943-c32e-43a6-bec1-7fd8f046f0a9",
   "metadata": {},
   "outputs": [
    {
     "data": {
      "text/plain": [
       "(16, 2)"
      ]
     },
     "execution_count": 34,
     "metadata": {},
     "output_type": "execute_result"
    }
   ],
   "source": [
    "xs.shape"
   ]
  },
  {
   "cell_type": "code",
   "execution_count": 35,
   "id": "9783ebdf-8f67-4206-8a05-2aa74b58d3c5",
   "metadata": {},
   "outputs": [
    {
     "data": {
      "text/plain": [
       "(16,)"
      ]
     },
     "execution_count": 35,
     "metadata": {},
     "output_type": "execute_result"
    }
   ],
   "source": [
    "ys.shape"
   ]
  },
  {
   "cell_type": "code",
   "execution_count": 36,
   "id": "407f0322-fedd-4292-b957-8c9a9692d27e",
   "metadata": {},
   "outputs": [
    {
     "data": {
      "text/plain": [
       "Array([0., 0., 0., 0., 0., 0., 0., 0., 0., 0., 0., 0., 0., 0., 0., 0.],      dtype=float32)"
      ]
     },
     "execution_count": 36,
     "metadata": {},
     "output_type": "execute_result"
    }
   ],
   "source": [
    "result"
   ]
  },
  {
   "cell_type": "code",
   "execution_count": null,
   "id": "f6759987-e867-47da-a9f1-54d9d66d804d",
   "metadata": {},
   "outputs": [],
   "source": []
  }
 ],
 "metadata": {
  "kernelspec": {
   "display_name": "Python 3 (ipykernel)",
   "language": "python",
   "name": "python3"
  },
  "language_info": {
   "codemirror_mode": {
    "name": "ipython",
    "version": 3
   },
   "file_extension": ".py",
   "mimetype": "text/x-python",
   "name": "python",
   "nbconvert_exporter": "python",
   "pygments_lexer": "ipython3",
   "version": "3.12.6"
  }
 },
 "nbformat": 4,
 "nbformat_minor": 5
}
