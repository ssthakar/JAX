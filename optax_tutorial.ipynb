{
 "cells": [
  {
   "cell_type": "code",
   "execution_count": 52,
   "id": "4ee6e925-b0bc-48ba-8de0-461a15d590fd",
   "metadata": {},
   "outputs": [],
   "source": [
    "import jax\n",
    "import jax.numpy as jnp\n",
    "import optax\n",
    "import functools\n",
    "import matplotlib.pyplot as plt"
   ]
  },
  {
   "cell_type": "code",
   "execution_count": 53,
   "id": "513f492e-cbab-4c80-9822-3a263089c32c",
   "metadata": {},
   "outputs": [],
   "source": [
    "# define constraints that won't change\n",
    "x0 = 0.2\n",
    "# can't use float in optax.l2_loss, so convert to array\n",
    "F0 = jnp.array(10.0)\n",
    "\n",
    "# define the elasticity as a function of x and params theta (A,B,C)\n",
    "def k(theta,x):\n",
    "    return theta[0]*x**2 + theta[1]*x + theta[2]\n",
    "\n",
    "# define partial derivative of k wrt x, 1 to tell jax to diff wrt to second arg (x)\n",
    "dk_dx = jax.grad(k,argnums=(1))"
   ]
  },
  {
   "cell_type": "code",
   "execution_count": 54,
   "id": "a9dbd2c2-e853-4296-94a5-5d505b3de6cf",
   "metadata": {},
   "outputs": [],
   "source": [
    "# define force\n",
    "def f(theta,x):\n",
    "    return k(theta,x)*x + dk_dx(theta,x)*x\n",
    "\n",
    "# define force at x0, by freezing x as x0\n",
    "f_at_x0 = functools.partial(f,x=0.20)"
   ]
  },
  {
   "cell_type": "code",
   "execution_count": 55,
   "id": "a3dddd32-a923-4f30-ad89-6b09cb4c08f1",
   "metadata": {},
   "outputs": [],
   "source": [
    "# define objetive function for optimizer, jit because called in loop\n",
    "# Question, Do I need to jit compile the functions called inside loss_function?\n",
    "@jax.jit\n",
    "def loss_function(theta):\n",
    "    f_pred = f_at_x0(theta)\n",
    "    return optax.l2_loss(F0,f_pred)"
   ]
  },
  {
   "cell_type": "code",
   "execution_count": 60,
   "id": "c507dccd-b49d-4e5e-8db8-cb2739034163",
   "metadata": {},
   "outputs": [
    {
     "name": "stdout",
     "output_type": "stream",
     "text": [
      "[19.349806 18.875818 18.835123]\n"
     ]
    }
   ],
   "source": [
    "# define intial step size for grad descent, did some trial and error before settling for this.\n",
    "lr = 2e-1\n",
    "optimizer = optax.adam(lr)\n",
    "# intialize using a uniform normal distribution.\n",
    "key = jax.random.key(42)\n",
    "theta_init = jax.random.uniform(key,(3,))\n",
    "theta = jnp.array(theta_init)\n",
    "opt_state = optimizer.init(theta)\n",
    "N_iter = 1000\n",
    "# track loss every n_log_loss number of iteration\n",
    "n_log_loss = 25\n",
    "loss_hist = []\n",
    "# iterate\n",
    "for i in range(N_iter):\n",
    "    grads = jax.grad(loss_function)(theta)\n",
    "    updates,opt_state = optimizer.update(grads,opt_state)\n",
    "    theta = optax.apply_updates(theta,updates)\n",
    "    if i%25==0:\n",
    "        loss_hist.append(loss_function(theta))\n",
    "# params\n",
    "print(theta)"
   ]
  },
  {
   "cell_type": "code",
   "execution_count": 61,
   "id": "f5e5ada6-20b1-4b34-b4b7-591f27131fed",
   "metadata": {},
   "outputs": [
    {
     "data": {
      "text/plain": [
       "Array(10.000004, dtype=float32)"
      ]
     },
     "execution_count": 61,
     "metadata": {},
     "output_type": "execute_result"
    }
   ],
   "source": [
    "# plug in params to get force\n",
    "result = f(theta,x0)\n",
    "result"
   ]
  },
  {
   "cell_type": "code",
   "execution_count": 58,
   "id": "0ce6caef-c3b6-4736-b6f4-51465d570345",
   "metadata": {},
   "outputs": [
    {
     "data": {
      "text/plain": [
       "Array(0., dtype=float32)"
      ]
     },
     "execution_count": 58,
     "metadata": {},
     "output_type": "execute_result"
    },
    {
     "data": {
      "image/png": "[encoded data removed]",
      "text/plain": [
       "<Figure size 640x480 with 1 Axes>"
      ]
     },
     "metadata": {},
     "output_type": "display_data"
    }
   ],
   "source": [
    "# plot loss history\n",
    "plt.plot(loss_hist)\n",
    "loss_hist[-1]"
   ]
  },
  {
   "cell_type": "code",
   "execution_count": 59,
   "id": "619416b1-6a26-4e20-a083-973cee47a04f",
   "metadata": {},
   "outputs": [
    {
     "data": {
      "text/plain": [
       "[Array(40.76911, dtype=float32),\n",
       " Array(20.875153, dtype=float32),\n",
       " Array(8.990267, dtype=float32),\n",
       " Array(3.2163308, dtype=float32),\n",
       " Array(0.93410546, dtype=float32),\n",
       " Array(0.21429126, dtype=float32),\n",
       " Array(0.03755739, dtype=float32),\n",
       " Array(0.00477806, dtype=float32),\n",
       " Array(0.00039972, dtype=float32),\n",
       " Array(1.7065702e-05, dtype=float32),\n",
       " Array(8.724055e-08, dtype=float32),\n",
       " Array(3.5652192e-08, dtype=float32),\n",
       " Array(8.411007e-09, dtype=float32),\n",
       " Array(3.3151082e-10, dtype=float32),\n",
       " Array(0., dtype=float32),\n",
       " Array(0., dtype=float32),\n",
       " Array(0., dtype=float32),\n",
       " Array(0., dtype=float32),\n",
       " Array(0., dtype=float32),\n",
       " Array(0., dtype=float32),\n",
       " Array(0., dtype=float32),\n",
       " Array(0., dtype=float32),\n",
       " Array(0., dtype=float32),\n",
       " Array(0., dtype=float32),\n",
       " Array(0., dtype=float32),\n",
       " Array(0., dtype=float32),\n",
       " Array(0., dtype=float32),\n",
       " Array(0., dtype=float32),\n",
       " Array(0., dtype=float32),\n",
       " Array(0., dtype=float32),\n",
       " Array(0., dtype=float32),\n",
       " Array(0., dtype=float32),\n",
       " Array(0., dtype=float32),\n",
       " Array(0., dtype=float32),\n",
       " Array(0., dtype=float32),\n",
       " Array(0., dtype=float32),\n",
       " Array(0., dtype=float32),\n",
       " Array(0., dtype=float32),\n",
       " Array(0., dtype=float32),\n",
       " Array(0., dtype=float32)]"
      ]
     },
     "execution_count": 59,
     "metadata": {},
     "output_type": "execute_result"
    }
   ],
   "source": [
    "loss_hist"
   ]
  },
  {
   "cell_type": "code",
   "execution_count": null,
   "id": "4bd8df0c-398f-4154-92e0-562691ec254f",
   "metadata": {},
   "outputs": [],
   "source": []
  }
 ],
 "metadata": {
  "kernelspec": {
   "display_name": "Python 3 (ipykernel)",
   "language": "python",
   "name": "python3"
  },
  "language_info": {
   "codemirror_mode": {
    "name": "ipython",
    "version": 3
   },
   "file_extension": ".py",
   "mimetype": "text/x-python",
   "name": "python",
   "nbconvert_exporter": "python",
   "pygments_lexer": "ipython3",
   "version": "3.12.6"
  }
 },
 "nbformat": 4,
 "nbformat_minor": 5
}
