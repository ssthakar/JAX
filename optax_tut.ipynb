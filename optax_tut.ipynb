{
 "cells": [
  {
   "cell_type": "markdown",
   "id": "220b8a83-69c4-47f4-b6e7-43a83ffae228",
   "metadata": {},
   "source": [
    "# A simple linear model fitting using optax to get our feet wet\n",
    "* Consider the following linear model:\n",
    "    * $y = \\beta _0 + \\beta _1 x_1 + \\beta _2 x_2 ... \\beta _n x_n$\n",
    "* Here $\\boldsymbol{\\beta} = \\{\\beta _1, \\beta _2 ... \\beta _3\\}$ are the parameters, abbreviated as \"params\" here onwards and $\\boldsymbol{x} = \\{x_1,x_2 ... x_n\\}$ are the input features, with $y$ being the output feature."
   ]
  },
  {
   "cell_type": "code",
   "execution_count": 2,
   "id": "ecb349ac-d00c-4a8b-832e-c5e0eab757a5",
   "metadata": {},
   "outputs": [],
   "source": [
    "import jax\n",
    "import jax.numpy as jnp\n",
    "import optax\n",
    "import functools\n",
    "import matplotlib.pyplot as plt"
   ]
  },
  {
   "cell_type": "code",
   "execution_count": 3,
   "id": "1ad8ea5b-c1ba-41c4-8da1-be7b83a862c4",
   "metadata": {},
   "outputs": [
    {
     "name": "stdout",
     "output_type": "stream",
     "text": [
      "cuda:0\n"
     ]
    }
   ],
   "source": [
    "# check if gpu is detected\n",
    "test =jnp.arange(5)\n",
    "print(test.device)"
   ]
  },
  {
   "cell_type": "markdown",
   "id": "70b655bf-ece0-4445-a32c-bc91fcc5abc2",
   "metadata": {},
   "source": [
    "## Example function using functools partial and vmap\n",
    "* functools presets some of the args to the vmap function, here, the \"in_axes()\" parameter is passed through the partial decorator\n",
    "* Note that jax.vmap() has other function arguments as well, but they are not taken into consideration here, only the in_axes() param is \"frozen\"\n",
    "* The partial decorator is then applied to the function network which takes in params and x"
   ]
  },
  {
   "cell_type": "code",
   "execution_count": 4,
   "id": "3ebe4749-004d-44e8-a8ae-093277304ca7",
   "metadata": {},
   "outputs": [],
   "source": [
    "@functools.partial(jax.vmap,in_axes=(None,0))\n",
    "def network(params,x):\n",
    "    return jnp.dot(params,x)\n",
    "\n",
    "def compute_loss(params,x,y):\n",
    "    y_pred = network(params,x)\n",
    "    loss = jnp.mean(optax.l2_loss(y_pred,y))\n",
    "    return loss"
   ]
  },
  {
   "cell_type": "markdown",
   "id": "1f779c7b-2e66-4b2b-b262-0c8acc706077",
   "metadata": {},
   "source": [
    "# Data\n",
    "* We generate data using a known linear model with the target params =0.5"
   ]
  },
  {
   "cell_type": "code",
   "execution_count": 10,
   "id": "1caac4c1-a95a-47c0-b344-bdc03a89d65b",
   "metadata": {},
   "outputs": [
    {
     "data": {
      "text/plain": [
       "Array([[-1.0100551e+00,  4.3174960e-03],\n",
       "       [-1.0414395e+00,  4.7344890e-01],\n",
       "       [-3.7348837e-02,  1.0950059e-01],\n",
       "       [ 8.7003446e-01,  7.2180462e-01],\n",
       "       [ 8.4831733e-01, -4.9240713e-04],\n",
       "       [ 9.9366140e-01, -6.8150443e-01],\n",
       "       [-1.5684669e-01, -2.3161867e-01],\n",
       "       [ 8.7166107e-01, -4.8429218e-01],\n",
       "       [ 2.6437920e-01, -5.8230702e-03],\n",
       "       [ 1.6898832e-01,  4.8616579e-01],\n",
       "       [ 3.2079124e-01,  3.6636621e-01],\n",
       "       [ 7.6128572e-01,  4.2890865e-01],\n",
       "       [ 1.3108808e-01,  1.4217469e+00],\n",
       "       [ 2.8882191e-01,  2.5156605e-01],\n",
       "       [ 1.9488384e-01, -6.8622433e-02],\n",
       "       [-8.5813260e-01, -4.6977270e-01]], dtype=float32)"
      ]
     },
     "execution_count": 10,
     "metadata": {},
     "output_type": "execute_result"
    }
   ],
   "source": [
    "key = jax.random.PRNGKey(42)\n",
    "# optax tutorial uses this as the target params which is a bit confusing\n",
    "# target_params=0.5\n",
    "# instead of just defining a scalar we define a vector\n",
    "target_params = jnp.array([0.5,0.5])\n",
    "# Generate the data\n",
    "xs = jax.random.normal(key,(16,2))\n",
    "test = xs*target_params\n",
    "ys = jnp.sum(xs*target_params,axis=-1)\n",
    "test"
   ]
  },
  {
   "cell_type": "code",
   "execution_count": 11,
   "id": "94b56ec3-ba9e-48ef-9547-8f3942151490",
   "metadata": {},
   "outputs": [
    {
     "data": {
      "text/plain": [
       "Array([[-2.0201101e+00,  8.6349919e-03],\n",
       "       [-2.0828791e+00,  9.4689780e-01],\n",
       "       [-7.4697673e-02,  2.1900117e-01],\n",
       "       [ 1.7400689e+00,  1.4436092e+00],\n",
       "       [ 1.6966347e+00, -9.8481425e-04],\n",
       "       [ 1.9873228e+00, -1.3630089e+00],\n",
       "       [-3.1369337e-01, -4.6323735e-01],\n",
       "       [ 1.7433221e+00, -9.6858436e-01],\n",
       "       [ 5.2875841e-01, -1.1646140e-02],\n",
       "       [ 3.3797663e-01,  9.7233158e-01],\n",
       "       [ 6.4158249e-01,  7.3273242e-01],\n",
       "       [ 1.5225714e+00,  8.5781729e-01],\n",
       "       [ 2.6217616e-01,  2.8434937e+00],\n",
       "       [ 5.7764381e-01,  5.0313210e-01],\n",
       "       [ 3.8976768e-01, -1.3724487e-01],\n",
       "       [-1.7162652e+00, -9.3954539e-01]], dtype=float32)"
      ]
     },
     "execution_count": 11,
     "metadata": {},
     "output_type": "execute_result"
    }
   ],
   "source": [
    "xs"
   ]
  },
  {
   "cell_type": "markdown",
   "id": "55b25240-c375-459d-b8dd-a41bec42f2d4",
   "metadata": {},
   "source": [
    "# Define optimizer\n",
    "* define initial learning rate for the ADAM optimizer for example\n",
    "* intialize params\n",
    "* construct optimizer object"
   ]
  },
  {
   "cell_type": "code",
   "execution_count": 6,
   "id": "16bd9a73-4b8c-4706-9415-e18f5e77c70f",
   "metadata": {},
   "outputs": [],
   "source": [
    "lr=1e-1\n",
    "optimizer = optax.adam(lr)\n",
    "\n",
    "#intialize the params using randoms values, here we got with zeroes\n",
    "params = jnp.array([0.0,0.0])\n",
    "opt_state = optimizer.init(params)"
   ]
  }
 ],
 "metadata": {
  "kernelspec": {
   "display_name": "Python 3 (ipykernel)",
   "language": "python",
   "name": "python3"
  },
  "language_info": {
   "codemirror_mode": {
    "name": "ipython",
    "version": 3
   },
   "file_extension": ".py",
   "mimetype": "text/x-python",
   "name": "python",
   "nbconvert_exporter": "python",
   "pygments_lexer": "ipython3",
   "version": "3.12.6"
  }
 },
 "nbformat": 4,
 "nbformat_minor": 5
}
